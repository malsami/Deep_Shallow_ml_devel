{
 "cells": [
  {
   "cell_type": "markdown",
   "metadata": {},
   "source": [
    "### Shallow Learning classes created in case developer wishes to build his or her own models, currently only the sci-kit learning prototypes are supported. "
   ]
  },
  {
   "cell_type": "code",
   "execution_count": 7,
   "metadata": {},
   "outputs": [],
   "source": [
    "import io, os, sys, types\n",
    "\n",
    "from IPython import get_ipython\n",
    "from nbformat import read\n",
    "from IPython.core.interactiveshell import InteractiveShell"
   ]
  },
  {
   "cell_type": "code",
   "execution_count": 8,
   "metadata": {},
   "outputs": [],
   "source": [
    "import sys\n",
    "sys.path.insert(0, '../')\n",
    "\n"
   ]
  },
  {
   "cell_type": "code",
   "execution_count": 9,
   "metadata": {},
   "outputs": [
    {
     "ename": "ImportError",
     "evalue": "No module named 'Utils'",
     "traceback": [
      "\u001b[1;31m---------------------------------------------------------------------------\u001b[0m",
      "\u001b[1;31mImportError\u001b[0m                               Traceback (most recent call last)",
      "\u001b[1;32m<ipython-input-9-e16318815619>\u001b[0m in \u001b[0;36m<module>\u001b[1;34m()\u001b[0m\n\u001b[1;32m----> 1\u001b[1;33m \u001b[1;32mfrom\u001b[0m \u001b[0mUtils\u001b[0m \u001b[1;32mimport\u001b[0m \u001b[0mload_data\u001b[0m\u001b[1;33m\u001b[0m\u001b[0m\n\u001b[0m",
      "\u001b[1;31mImportError\u001b[0m: No module named 'Utils'"
     ],
     "output_type": "error"
    }
   ],
   "source": [
    "from Utils import load_data"
   ]
  },
  {
   "cell_type": "code",
   "execution_count": 188,
   "metadata": {},
   "outputs": [
    {
     "ename": "FileNotFoundError",
     "evalue": "[Errno 2] No such file or directory: 'x_tensor.p'",
     "traceback": [
      "\u001b[1;31m---------------------------------------------------------------------------\u001b[0m",
      "\u001b[1;31mFileNotFoundError\u001b[0m                         Traceback (most recent call last)",
      "\u001b[1;32m<ipython-input-188-ca071d70619c>\u001b[0m in \u001b[0;36m<module>\u001b[1;34m()\u001b[0m\n\u001b[1;32m----> 1\u001b[1;33m \u001b[0mload_data\u001b[0m\u001b[1;33m(\u001b[0m\u001b[1;33m)\u001b[0m\u001b[1;33m\u001b[0m\u001b[0m\n\u001b[0m",
      "\u001b[1;32m~\\Documents\\Misc\\Research\\MalSami\\Deep_Shallow_ml_devel\\src\\Utils.py\u001b[0m in \u001b[0;36mload_data\u001b[1;34m()\u001b[0m\n\u001b[0;32m     16\u001b[0m \u001b[1;33m\u001b[0m\u001b[0m\n\u001b[0;32m     17\u001b[0m     \u001b[1;31m# For Deep Learning\u001b[0m\u001b[1;33m\u001b[0m\u001b[1;33m\u001b[0m\u001b[0m\n\u001b[1;32m---> 18\u001b[1;33m     \u001b[0mdata_tensor\u001b[0m \u001b[1;33m=\u001b[0m \u001b[0mpickle\u001b[0m\u001b[1;33m.\u001b[0m\u001b[0mload\u001b[0m\u001b[1;33m(\u001b[0m\u001b[0mopen\u001b[0m\u001b[1;33m(\u001b[0m\u001b[1;34m\"x_tensor.p\"\u001b[0m\u001b[1;33m,\u001b[0m \u001b[1;34m\"rb\"\u001b[0m\u001b[1;33m)\u001b[0m\u001b[1;33m)\u001b[0m\u001b[1;33m\u001b[0m\u001b[0m\n\u001b[0m\u001b[0;32m     19\u001b[0m     \u001b[0mlabels_tensor\u001b[0m \u001b[1;33m=\u001b[0m \u001b[0mpickle\u001b[0m\u001b[1;33m.\u001b[0m\u001b[0mload\u001b[0m\u001b[1;33m(\u001b[0m\u001b[0mopen\u001b[0m\u001b[1;33m(\u001b[0m\u001b[1;34m\"y_tensor.p\"\u001b[0m\u001b[1;33m,\u001b[0m \u001b[1;34m\"rb\"\u001b[0m\u001b[1;33m)\u001b[0m\u001b[1;33m)\u001b[0m\u001b[1;33m\u001b[0m\u001b[0m\n\u001b[0;32m     20\u001b[0m \u001b[1;33m\u001b[0m\u001b[0m\n",
      "\u001b[1;31mFileNotFoundError\u001b[0m: [Errno 2] No such file or directory: 'x_tensor.p'"
     ],
     "output_type": "error"
    }
   ],
   "source": [
    "load_data()"
   ]
  },
  {
   "cell_type": "code",
   "execution_count": 169,
   "metadata": {},
   "outputs": [],
   "source": [
    "from sklearn.linear_model import *\n",
    "from sklearn.model_selection import KFold\n"
   ]
  },
  {
   "cell_type": "code",
   "execution_count": 170,
   "metadata": {},
   "outputs": [],
   "source": [
    "kfold = KFold(10,True)\n"
   ]
  },
  {
   "cell_type": "code",
   "execution_count": 3,
   "metadata": {},
   "outputs": [],
   "source": [
    "from sklearn import datasets\n",
    "\n",
    "iris = datasets.load_iris()\n",
    "iris_X = iris.data\n",
    "iris_y = iris.target"
   ]
  },
  {
   "cell_type": "code",
   "execution_count": 155,
   "metadata": {},
   "outputs": [],
   "source": [
    "import logging\n",
    "\n",
    "class Shallow_Model():\n",
    "    model = None # MultinomialNB()\n",
    "\n",
    "    def __init__(self, name):\n",
    "        print(\"Shallow Model Created: \", name)\n",
    "\n",
    "    def train(self, x, y):\n",
    "        self.model.fit(x, y)\n",
    "        \n",
    "    def predict(self,x, log_predict = False):\n",
    "        if(log_predict):\n",
    "            return self.model.predict_log_proba()\n",
    "        else:\n",
    "            return self.model.predict(x)\n",
    "\n",
    "    def k_fold_fit(self, x, y):\n",
    "        \"\"\"\n",
    "        K fold cross validation for finding fit of data\n",
    "        :param x:\n",
    "        :param y:\n",
    "        :return:\n",
    "        \"\"\"\n",
    "\n",
    "    def optimize(self):\n",
    "        pass\n"
   ]
  },
  {
   "cell_type": "code",
   "execution_count": 167,
   "metadata": {},
   "outputs": [],
   "source": [
    "from sklearn.neighbors import KNeighborsClassifier\n",
    "import logging\n",
    "\n",
    "\n",
    "class KNN(Shallow_Model):\n",
    "\n",
    "    model = None\n",
    "\n",
    "    def __init__(self, num_neighbors, k_weights = 'uniform', k_algorithm='auto'):\n",
    "        super(KNN,self).__init__(name= \"KNN with \" + str(num_neighbors) + \" neighbors\")\n",
    "        self.model = KNeighborsClassifier(n_neighbors=num_neighbors, weights=k_weights, algorithm=k_algorithm)\n",
    "\n",
    "    def train(self, x,y):\n",
    "        # self.model.fit(x,y)\n",
    "        self.model.fit(x, y)\n",
    "        logging.info(\"KNN is training\")\n",
    "\n",
    "    def analyze(self):\n",
    "        pass\n",
    "\n",
    "    def optimize(self):\n",
    "        pass\n"
   ]
  },
  {
   "cell_type": "code",
   "execution_count": 156,
   "metadata": {},
   "outputs": [],
   "source": [
    "\"\"\"Naive Bayes\"\"\"\n",
    "\n",
    "from sklearn.naive_bayes import GaussianNB\n",
    "from sklearn.naive_bayes import MultinomialNB\n",
    "from sklearn.naive_bayes import BernoulliNB\n",
    "\n",
    "class GaussianNaiveBayes(Shallow_Model):\n",
    "    \n",
    "    model = None\n",
    "    \n",
    "    def __init__(self):\n",
    "        super(GaussianNaiveBayes,self).__init__(name = \"Gaussian Bayes\")\n",
    "        self.model = GaussianNB()\n",
    "\n",
    "    def train(self,x,y):\n",
    "        super(GaussianNaiveBayes,self).train(x,y)\n",
    "        \n",
    "    def predict(self,x):\n",
    "        return super(GaussianNaiveBayes, self).predict(x)\n",
    "        \n",
    "class MultinomialNaiveBayes(Shallow_Model):\n",
    "    \n",
    "    model = None\n",
    "    \n",
    "    def __init__(self):\n",
    "        super(MultinomialNaiveBayes,self).__init__(name = \"Multinomial Bayes\")\n",
    "        self.model = MultinomialNB()\n",
    "        \n",
    "    def train(self,x,y):\n",
    "        super(MultinomialNaiveBayes,self).train(x,y)\n",
    "        \n",
    "    def predict(self,x):\n",
    "        return super(MultinomialNaiveBayes, self).predict(x, log_predict)\n",
    "        \n",
    "class BernoulliNaiveBayes(Shallow_Model):\n",
    "    model = None\n",
    "    \n",
    "    def __init__(self):\n",
    "        super(BernoulliNaiveBayes,self).__init__(name = \"BernoulliNaiveBayes\")\n",
    "        self.model = BernoulliNB()\n",
    "    \n",
    "    def train(self,x,y):\n",
    "        super(BernoulliNaiveBayes,self).train(x,y)\n",
    "        \n",
    "    def predict(self,x):\n",
    "        return super(BernoulliNaiveBayes,self).predict(x)\n",
    "    \n",
    "        "
   ]
  },
  {
   "cell_type": "code",
   "execution_count": 168,
   "metadata": {},
   "outputs": [
    {
     "name": "stdout",
     "output_type": "stream",
     "text": [
      "Shallow Model Created:  KNN with 5 neighbors\n"
     ]
    },
    {
     "data": {
      "text/plain": [
       "<__main__.KNN at 0x1efb9bcfda0>"
      ]
     },
     "execution_count": 168,
     "metadata": {},
     "output_type": "execute_result"
    }
   ],
   "source": [
    "clf = KNN(num_neighbors=5)\n",
    "clf"
   ]
  },
  {
   "cell_type": "code",
   "execution_count": 158,
   "metadata": {},
   "outputs": [],
   "source": [
    "clf.train(iris.data, iris.target)\n",
    "y_pred = clf.predict(iris.data)"
   ]
  },
  {
   "cell_type": "code",
   "execution_count": 159,
   "metadata": {},
   "outputs": [
    {
     "name": "stdout",
     "output_type": "stream",
     "text": [
      "Number of mislabeled points out of a total 150 points : 100\n"
     ]
    }
   ],
   "source": [
    "print(\"Number of mislabeled points out of a total %d points : %d\"\n",
    "      % (iris.data.shape[0],(iris.target != y_pred).sum()))"
   ]
  }
 ],
 "metadata": {
  "kernelspec": {
   "display_name": "Python 3",
   "language": "python",
   "name": "python3"
  },
  "language_info": {
   "codemirror_mode": {
    "name": "ipython",
    "version": 3
   },
   "file_extension": ".py",
   "mimetype": "text/x-python",
   "name": "python",
   "nbconvert_exporter": "python",
   "pygments_lexer": "ipython3",
   "version": "3.5.4"
  }
 },
 "nbformat": 4,
 "nbformat_minor": 2
}
