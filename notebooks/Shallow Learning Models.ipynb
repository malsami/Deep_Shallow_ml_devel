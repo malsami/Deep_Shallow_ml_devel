{
 "cells": [
  {
   "cell_type": "markdown",
   "metadata": {},
   "source": [
    "### Shallow Learning classes created in case developer wishes to build his or her own models, currently only the sci-kit learning prototypes are supported. "
   ]
  },
  {
   "cell_type": "code",
   "execution_count": 1,
   "metadata": {},
   "outputs": [],
   "source": [
    "import sys\n",
    "sys.path.insert(0, '../')\n",
    "\n"
   ]
  },
  {
   "cell_type": "code",
   "execution_count": 2,
   "metadata": {},
   "outputs": [
    {
     "name": "stderr",
     "output_type": "stream",
     "text": [
      "Using TensorFlow backend.\n"
     ]
    }
   ],
   "source": [
    "from src.Utils import load_data\n",
    "from src.Trainer import shallow_model_trainer"
   ]
  },
  {
   "cell_type": "code",
   "execution_count": 3,
   "metadata": {},
   "outputs": [],
   "source": [
    "x_tensor, x, y_tensor, y = load_data()"
   ]
  },
  {
   "cell_type": "code",
   "execution_count": 4,
   "metadata": {},
   "outputs": [],
   "source": [
    "from models.ShallowLearning.RandomForest import RandomForest\n",
    "from models.ShallowLearning.KNearestNeighbors import KNN\n",
    "from models.ShallowLearning.SupportVectorMachine import SVM\n",
    "from models.ShallowLearning.LogisticRegression import LogRegress\n",
    "from models.ShallowLearning.NaiveBayes import GaussianNaiveBayes, MultinomialNaiveBayes, BernoulliNaiveBayes\n",
    "\n",
    "from sklearn.model_selection import KFold\n",
    "from sklearn.model_selection import cross_val_score\n",
    "from sklearn.preprocessing import normalize\n",
    "\n",
    "import numpy as np"
   ]
  },
  {
   "cell_type": "code",
   "execution_count": 5,
   "metadata": {},
   "outputs": [],
   "source": [
    "x_n = normalize(x)\n",
    "x_tensor_n = normalize(x_tensor, axis = 0)"
   ]
  },
  {
   "cell_type": "code",
   "execution_count": 6,
   "metadata": {},
   "outputs": [
    {
     "data": {
      "text/plain": [
       "array([[3.81386314e-06, 9.99781338e-01, 1.43019868e-02, 1.52554525e-02,\n",
       "        3.81386314e-06, 1.90693157e-06],\n",
       "       [1.28036699e-03, 2.56073399e-04, 6.40183497e-01, 7.68220197e-01,\n",
       "        1.02429360e-03, 2.56073399e-04],\n",
       "       [2.73576434e-04, 9.11921448e-05, 6.83941086e-01, 7.29537159e-01,\n",
       "        1.82384290e-04, 9.11921448e-05],\n",
       "       ...,\n",
       "       [1.78883936e-03, 8.94419678e-04, 4.47209839e-01, 8.94419678e-01,\n",
       "        3.57767871e-03, 0.00000000e+00],\n",
       "       [4.57697071e-05, 9.99854507e-01, 7.62828451e-03, 1.52565690e-02,\n",
       "        9.15394141e-05, 0.00000000e+00],\n",
       "       [1.69484038e-09, 1.00000000e+00, 6.35565142e-06, 6.77936151e-06,\n",
       "        4.23710095e-09, 0.00000000e+00]])"
      ]
     },
     "execution_count": 6,
     "metadata": {},
     "output_type": "execute_result"
    }
   ],
   "source": [
    "x_n"
   ]
  },
  {
   "cell_type": "code",
   "execution_count": 11,
   "metadata": {},
   "outputs": [
    {
     "data": {
      "text/plain": [
       "6"
      ]
     },
     "execution_count": 11,
     "metadata": {},
     "output_type": "execute_result"
    }
   ],
   "source": [
    "x_tensor.shape[1]"
   ]
  },
  {
   "cell_type": "code",
   "execution_count": null,
   "metadata": {},
   "outputs": [],
   "source": [
    "524288 / 847288609443\n"
   ]
  },
  {
   "cell_type": "code",
   "execution_count": 8,
   "metadata": {},
   "outputs": [],
   "source": [
    "\"\"\"Control Data for debugging, ignore\"\"\"\n",
    "import matplotlib.pyplot as plt\n",
    "from mpl_toolkits.mplot3d import Axes3D\n",
    "from sklearn import datasets\n",
    "from sklearn.decomposition import PCA\n",
    "\n",
    "# import some data to play with\n",
    "iris = datasets.load_iris()\n",
    "X = iris.data[:, :2]  # we only take the first two features.\n",
    "Y = iris.target"
   ]
  },
  {
   "cell_type": "code",
   "execution_count": 7,
   "metadata": {},
   "outputs": [],
   "source": [
    "# Shallow Models with default params\n",
    "gb = GaussianNaiveBayes()\n",
    "mb = MultinomialNaiveBayes()\n",
    "bern_bb = BernoulliNaiveBayes()\n",
    "knn = KNN(num_neighbors=5)\n",
    "rlf = RandomForest() \n",
    "log_lf = LogRegress() \n",
    "slf = SVM(c_penalty='l2',s_kernel='rbf', s_degree=5, s_kernel_cache_size=1024, s_tolerance=.001, s_class_weight=None,s_gamma = 'auto')"
   ]
  },
  {
   "cell_type": "code",
   "execution_count": 13,
   "metadata": {},
   "outputs": [],
   "source": [
    "# trained_model = shallow_model.train(x,y)\n",
    "rlf_scores = cross_val_score(rlf.model, x_n, y, cv=10)\n",
    "log_reg_scores =cross_val_score(log_lf.model,x_n,y,cv=10)\n",
    "knn_scores = cross_val_score(knn.model,x_n,y,cv=10)"
   ]
  },
  {
   "cell_type": "code",
   "execution_count": 12,
   "metadata": {},
   "outputs": [],
   "source": [
    "# Gaussian NB\n",
    "# gaussian_nb_scores = cross_val_score(gb.model, x_n,y,cv=10)\n",
    "# multinomial_nb_scores = cross_val_score(mb.model,x_n,y,cv=10)\n",
    "bernouli_nb_scores = cross_val_score(bern_bb.model,x_n,y,cv=10)"
   ]
  },
  {
   "cell_type": "code",
   "execution_count": 14,
   "metadata": {},
   "outputs": [
    {
     "data": {
      "text/plain": [
       "array([0.93961686, 0.94159385, 0.95634476, 0.96127418, 0.9623931 ,\n",
       "       0.95959219, 0.90118385, 0.95604437, 0.95189902, 0.89696381])"
      ]
     },
     "execution_count": 14,
     "metadata": {},
     "output_type": "execute_result"
    }
   ],
   "source": [
    "# Random Forest Scores\n",
    "rlf_scores"
   ]
  },
  {
   "cell_type": "code",
   "execution_count": 17,
   "metadata": {},
   "outputs": [
    {
     "data": {
      "text/plain": [
       "0.9426905984743827"
      ]
     },
     "execution_count": 17,
     "metadata": {},
     "output_type": "execute_result"
    }
   ],
   "source": [
    "np.mean(rlf_scores)"
   ]
  },
  {
   "cell_type": "code",
   "execution_count": 18,
   "metadata": {},
   "outputs": [
    {
     "data": {
      "text/plain": [
       "array([0.79424176, 0.79307641, 0.79307641, 0.79307641, 0.79306868,\n",
       "       0.79306868, 0.79306868, 0.79306868, 0.79306868, 0.79306868])"
      ]
     },
     "execution_count": 18,
     "metadata": {},
     "output_type": "execute_result"
    }
   ],
   "source": [
    "log_reg_scores"
   ]
  },
  {
   "cell_type": "code",
   "execution_count": 19,
   "metadata": {},
   "outputs": [
    {
     "data": {
      "text/plain": [
       "0.7931883044675236"
      ]
     },
     "execution_count": 19,
     "metadata": {},
     "output_type": "execute_result"
    }
   ],
   "source": [
    "np.mean(log_reg_scores)"
   ]
  },
  {
   "cell_type": "code",
   "execution_count": null,
   "metadata": {},
   "outputs": [],
   "source": [
    "slf_scores = cross_val_score(slf.model, x_n, y, cv=10)"
   ]
  },
  {
   "cell_type": "code",
   "execution_count": 12,
   "metadata": {
    "scrolled": true
   },
   "outputs": [
    {
     "data": {
      "text/plain": [
       "array([0.66666667, 0.8       , 0.86666667, 0.86666667, 0.8       ,\n",
       "       0.66666667, 0.86666667, 0.86666667, 0.86666667, 0.86666667])"
      ]
     },
     "execution_count": 12,
     "metadata": {},
     "output_type": "execute_result"
    }
   ],
   "source": [
    "slf_scores"
   ]
  },
  {
   "cell_type": "code",
   "execution_count": 21,
   "metadata": {},
   "outputs": [
    {
     "data": {
      "text/plain": [
       "array([0.99880503, 1.        , 1.        , 1.        , 1.        ,\n",
       "       1.        , 1.        , 1.        , 1.        , 1.        ])"
      ]
     },
     "execution_count": 21,
     "metadata": {},
     "output_type": "execute_result"
    }
   ],
   "source": [
    "# High accuracy could reveal some localization properties\n",
    "knn_scores"
   ]
  },
  {
   "cell_type": "code",
   "execution_count": 22,
   "metadata": {},
   "outputs": [
    {
     "data": {
      "text/plain": [
       "0.9998805033795138"
      ]
     },
     "execution_count": 22,
     "metadata": {},
     "output_type": "execute_result"
    }
   ],
   "source": [
    "np.mean(knn_scores) # WTF"
   ]
  },
  {
   "cell_type": "code",
   "execution_count": 10,
   "metadata": {},
   "outputs": [
    {
     "data": {
      "text/plain": [
       "array([0.59684828, 0.59500336, 0.62745537, 0.63350512, 0.64559137,\n",
       "       0.64167009, 0.6411846 , 0.64342533, 0.63726332, 0.63308063])"
      ]
     },
     "execution_count": 10,
     "metadata": {},
     "output_type": "execute_result"
    }
   ],
   "source": [
    "gaussian_nb_scores"
   ]
  },
  {
   "cell_type": "code",
   "execution_count": 13,
   "metadata": {},
   "outputs": [
    {
     "data": {
      "text/plain": [
       "0.6295027461612421"
      ]
     },
     "execution_count": 13,
     "metadata": {},
     "output_type": "execute_result"
    }
   ],
   "source": [
    "np.mean(gaussian_nb_scores)"
   ]
  },
  {
   "cell_type": "code",
   "execution_count": 14,
   "metadata": {},
   "outputs": [
    {
     "data": {
      "text/plain": [
       "array([1., 1., 1., 1., 1., 1., 1., 1., 1., 1.])"
      ]
     },
     "execution_count": 14,
     "metadata": {},
     "output_type": "execute_result"
    }
   ],
   "source": [
    "bernouli_nb_scores"
   ]
  },
  {
   "cell_type": "code",
   "execution_count": 15,
   "metadata": {},
   "outputs": [
    {
     "data": {
      "text/plain": [
       "1.0"
      ]
     },
     "execution_count": 15,
     "metadata": {},
     "output_type": "execute_result"
    }
   ],
   "source": [
    "np.mean(bernouli_nb_scores) # Doubld wtf"
   ]
  }
 ],
 "metadata": {
  "kernelspec": {
   "display_name": "Python 3",
   "language": "python",
   "name": "python3"
  },
  "language_info": {
   "codemirror_mode": {
    "name": "ipython",
    "version": 3
   },
   "file_extension": ".py",
   "mimetype": "text/x-python",
   "name": "python",
   "nbconvert_exporter": "python",
   "pygments_lexer": "ipython3",
   "version": "3.5.4"
  }
 },
 "nbformat": 4,
 "nbformat_minor": 2
}
